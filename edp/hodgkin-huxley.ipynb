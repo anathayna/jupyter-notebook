{
 "cells": [
  {
   "cell_type": "code",
   "execution_count": 1,
   "metadata": {},
   "outputs": [],
   "source": [
    "from scipy.integrate import odeint\n",
    "import matplotlib.pyplot as plt\n",
    "from sympy import *\n",
    "import numpy as np\n",
    "import math"
   ]
  },
  {
   "cell_type": "code",
   "execution_count": 2,
   "metadata": {},
   "outputs": [],
   "source": [
    "# Propagação do Potencial de Ação em Neurônios"
   ]
  },
  {
   "cell_type": "code",
   "execution_count": 3,
   "metadata": {},
   "outputs": [],
   "source": [
    "np.random.seed(1000)\n",
    "\n",
    "tmin = 0.0\n",
    "tmax = 50.0"
   ]
  },
  {
   "cell_type": "code",
   "execution_count": 4,
   "metadata": {},
   "outputs": [],
   "source": [
    "gK = 3.60\n",
    "gNa = 12.0\n",
    "gL = 0.03\n",
    "Cm = 1.0\n",
    "VK = -77.0 #(m/V)\n",
    "VNa = 50.0 #(m/V)\n",
    "Vl = -54.402 #(m/V)"
   ]
  },
  {
   "cell_type": "code",
   "execution_count": 5,
   "metadata": {},
   "outputs": [],
   "source": [
    "T = np.linspace(tmin, tmax, 10000)"
   ]
  },
  {
   "cell_type": "code",
   "execution_count": 6,
   "metadata": {},
   "outputs": [],
   "source": [
    "def alpha_n(Vm):\n",
    "    return (0.01 * (10.0 - Vm)) / (np.exp(1.0 - (0.1 * Vm)) - 1.0)\n",
    "\n",
    "def beta_n(Vm):\n",
    "    return 0.125 * np.exp(-Vm / 80.0)"
   ]
  },
  {
   "cell_type": "code",
   "execution_count": 7,
   "metadata": {},
   "outputs": [],
   "source": [
    "def alpha_m(Vm):\n",
    "    return (0.1 * (25.0 - Vm)) / (np.exp(2.5 - (0.1 * Vm)) - 1.0)\n",
    "\n",
    "def beta_m(Vm):\n",
    "    return 4.0 * np.exp(-Vm / 18.0)"
   ]
  },
  {
   "cell_type": "code",
   "execution_count": 8,
   "metadata": {},
   "outputs": [],
   "source": [
    "def alpha_h(Vm):\n",
    "    return 0.07 * np.exp(-Vm / 20.0)\n",
    "\n",
    "def beta_h(Vm):\n",
    "    return 1.0 / (np.exp(3.0 - (0.1 * Vm)) + 1.0)"
   ]
  },
  {
   "cell_type": "code",
   "execution_count": 9,
   "metadata": {},
   "outputs": [],
   "source": [
    "def n_inf(Vm=0.0):\n",
    "    return alpha_n(Vm) / (alpha_n(Vm) + beta_n(Vm))\n",
    "\n",
    "def m_inf(Vm=0.0):\n",
    "    return alpha_m(Vm) / (alpha_m(Vm) + beta_m(Vm))\n",
    "\n",
    "def h_inf(Vm=0.0):\n",
    "    return alpha_h(Vm) / (alpha_h(Vm) + beta_h(Vm))"
   ]
  },
  {
   "cell_type": "code",
   "execution_count": 10,
   "metadata": {},
   "outputs": [],
   "source": [
    "def Id(t):\n",
    "    if 0.0 < t < 1.0:\n",
    "        return 150.0\n",
    "    elif 10.0 < t < 11.0:\n",
    "        return 50.0\n",
    "    return 0.0"
   ]
  },
  {
   "cell_type": "code",
   "execution_count": 22,
   "metadata": {},
   "outputs": [],
   "source": [
    "def derivatives(y, t0):\n",
    "    dy = np.zeros((4,))\n",
    "    \n",
    "    Vm = y[0]\n",
    "    n = y[1]\n",
    "    m = y[2]\n",
    "    h = y[3]\n",
    "    \n",
    "    GK = (gK / Cm) * np.power(n, 4.0)\n",
    "    GNa = (gNa / Cm) * np.power(m, 3.0) * h\n",
    "    GL = gL / Cm\n",
    "    \n",
    "    dy[0] = (Id(t0) / Cm) - (GK * (Vm - VK)) - (GNa * (Vm - VNa)) - (GL * (Vm - Vl))\n",
    "    dy[1] = (alpha_n(Vm) * (1.0 - n)) - (beta_n(Vm) * n)\n",
    "    dy[2] = (alpha_m(Vm) * (1.0 - m)) - (beta_m(Vm) * m)\n",
    "    dy[3] = (alpha_h(Vm) * (1.0 - h)) - (beta_h(Vm) * h)\n",
    "    \n",
    "    return dy"
   ]
  },
  {
   "cell_type": "code",
   "execution_count": 23,
   "metadata": {},
   "outputs": [],
   "source": [
    "Y = np.array([0.0, n_inf(), m_inf(), h_inf()])\n",
    "Vy = odeint(derivatives, Y, T)"
   ]
  },
  {
   "cell_type": "code",
   "execution_count": 24,
   "metadata": {},
   "outputs": [],
   "source": [
    "Idv = [Id(t) for t in T]"
   ]
  },
  {
   "cell_type": "code",
   "execution_count": 26,
   "metadata": {},
   "outputs": [
    {
     "data": {
      "image/png": "[encoded data removed]",
      "text/plain": [
       "<Figure size 864x504 with 1 Axes>"
      ]
     },
     "metadata": {
      "needs_background": "light"
     },
     "output_type": "display_data"
    }
   ],
   "source": [
    "fig, ax = plt.subplots(figsize=(12, 7))\n",
    "ax.plot(T, Vy[:, 0])\n",
    "ax.set_xlabel('Tempo (ms)')\n",
    "ax.set_ylabel('Vm (mV)')\n",
    "ax.set_title('Propagação do Potencial de Ação em Neurônios')\n",
    "plt.grid()"
   ]
  },
  {
   "cell_type": "code",
   "execution_count": null,
   "metadata": {},
   "outputs": [],
   "source": []
  }
 ],
 "metadata": {
  "kernelspec": {
   "display_name": "Python 3",
   "language": "python",
   "name": "python3"
  },
  "language_info": {
   "codemirror_mode": {
    "name": "ipython",
    "version": 3
   },
   "file_extension": ".py",
   "mimetype": "text/x-python",
   "name": "python",
   "nbconvert_exporter": "python",
   "pygments_lexer": "ipython3",
   "version": "3.7.6"
  }
 },
 "nbformat": 4,
 "nbformat_minor": 4
}
