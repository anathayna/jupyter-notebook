{
 "cells": [
  {
   "cell_type": "code",
   "execution_count": 9,
   "metadata": {},
   "outputs": [],
   "source": [
    "from scipy.integrate import odeint\n",
    "import matplotlib.pyplot as plt\n",
    "from sympy import *\n",
    "import scipy as sp"
   ]
  },
  {
   "cell_type": "code",
   "execution_count": 10,
   "metadata": {},
   "outputs": [],
   "source": [
    "C_m  =   1.0\n",
    "g_Na = 120.0\n",
    "g_K  =  36.0\n",
    "g_L  =   0.3\n",
    "E_Na =  50.0\n",
    "E_K  = -77.0\n",
    "E_L  = -54.387"
   ]
  },
  {
   "cell_type": "code",
   "execution_count": 11,
   "metadata": {},
   "outputs": [
    {
     "name": "stderr",
     "output_type": "stream",
     "text": [
      "/Users/anathayna/opt/anaconda3/lib/python3.7/site-packages/ipykernel_launcher.py:1: DeprecationWarning: scipy.arange is deprecated and will be removed in SciPy 2.0.0, use numpy.arange instead\n",
      "  \"\"\"Entry point for launching an IPython kernel.\n"
     ]
    }
   ],
   "source": [
    "t = sp.arange(0.0, 450.0, 0.01)"
   ]
  },
  {
   "cell_type": "code",
   "execution_count": 12,
   "metadata": {},
   "outputs": [],
   "source": [
    "def alpha_m(self, V):\n",
    "    return 0.1*(V+40.0)/(1.0 - sp.exp(-(V+40.0) / 10.0))\n",
    "\n",
    "def beta_m(self, V):\n",
    "    return 4.0*sp.exp(-(V+65.0) / 18.0)"
   ]
  },
  {
   "cell_type": "code",
   "execution_count": 13,
   "metadata": {},
   "outputs": [],
   "source": [
    "def alpha_h(self, V):\n",
    "    return 0.07*sp.exp(-(V+65.0) / 20.0)\n",
    "\n",
    "def beta_h(self, V):\n",
    "    return 1.0/(1.0 + sp.exp(-(V+35.0) / 10.0))"
   ]
  },
  {
   "cell_type": "code",
   "execution_count": 14,
   "metadata": {},
   "outputs": [],
   "source": [
    "def alpha_n(self, V):\n",
    "    return 0.01*(V+55.0)/(1.0 - sp.exp(-(V+55.0) / 10.0))\n",
    "\n",
    "def beta_n(self, V):\n",
    "    return 0.125*sp.exp(-(V+65) / 80.0)"
   ]
  },
  {
   "cell_type": "code",
   "execution_count": 15,
   "metadata": {},
   "outputs": [],
   "source": [
    "def I_Na(self, V, m, h):\n",
    "    return self.g_Na * m**3 * h * (V - self.E_Na)\n",
    "\n",
    "def I_K(self, V, n):\n",
    "    return self.g_K  * n**4 * (V - self.E_K)\n",
    "\n",
    "def I_L(self, V):\n",
    "    return self.g_L * (V - self.E_L)\n",
    "\n",
    "def I_inj(self, t):\n",
    "    return 10*(t>100) - 10*(t>200) + 35*(t>300) - 35*(t>400)"
   ]
  },
  {
   "cell_type": "code",
   "execution_count": 16,
   "metadata": {},
   "outputs": [],
   "source": [
    "def dALLdt(X, t, self):\n",
    "    V, m, h, n = X\n",
    "\n",
    "    dVdt = (self.I_inj(t) - self.I_Na(V, m, h) - self.I_K(V, n) - self.I_L(V)) / self.C_m\n",
    "    dmdt = self.alpha_m(V)*(1.0-m) - self.beta_m(V)*m\n",
    "    dhdt = self.alpha_h(V)*(1.0-h) - self.beta_h(V)*h\n",
    "    dndt = self.alpha_n(V)*(1.0-n) - self.beta_n(V)*n\n",
    "    return dVdt, dmdt, dhdt, dndt"
   ]
  },
  {
   "cell_type": "code",
   "execution_count": 20,
   "metadata": {},
   "outputs": [],
   "source": [
    "def Main(self):\n",
    "\n",
    "    X = odeint(self.dALLdt, [-65, 0.05, 0.6, 0.32], self.t, args=(self,))\n",
    "        \n",
    "    V = X[:,0]\n",
    "    m = X[:,1]\n",
    "    h = X[:,2]\n",
    "    n = X[:,3]\n",
    "        \n",
    "    ina = self.I_Na(V, m, h)\n",
    "    ik = self.I_K(V, n)\n",
    "    il = self.I_L(V)\n",
    "\n",
    "    plt.figure()\n",
    "\n",
    "    plt.subplot(4,1,1)\n",
    "    plt.title('Propagação do Potencial de Ação em Neurônios')\n",
    "    plt.plot(self.t, V, 'k')\n",
    "    plt.ylabel('V (mV)')\n",
    "\n",
    "    plt.show()"
   ]
  },
  {
   "cell_type": "code",
   "execution_count": 21,
   "metadata": {},
   "outputs": [
    {
     "name": "stderr",
     "output_type": "stream",
     "text": [
      "/Users/anathayna/opt/anaconda3/lib/python3.7/site-packages/ipykernel_launcher.py:19: DeprecationWarning: scipy.exp is deprecated and will be removed in SciPy 2.0.0, use numpy.exp instead\n",
      "/Users/anathayna/opt/anaconda3/lib/python3.7/site-packages/ipykernel_launcher.py:22: DeprecationWarning: scipy.exp is deprecated and will be removed in SciPy 2.0.0, use numpy.exp instead\n",
      "/Users/anathayna/opt/anaconda3/lib/python3.7/site-packages/ipykernel_launcher.py:25: DeprecationWarning: scipy.exp is deprecated and will be removed in SciPy 2.0.0, use numpy.exp instead\n",
      "/Users/anathayna/opt/anaconda3/lib/python3.7/site-packages/ipykernel_launcher.py:28: DeprecationWarning: scipy.exp is deprecated and will be removed in SciPy 2.0.0, use numpy.exp instead\n",
      "/Users/anathayna/opt/anaconda3/lib/python3.7/site-packages/ipykernel_launcher.py:31: DeprecationWarning: scipy.exp is deprecated and will be removed in SciPy 2.0.0, use numpy.exp instead\n",
      "/Users/anathayna/opt/anaconda3/lib/python3.7/site-packages/ipykernel_launcher.py:34: DeprecationWarning: scipy.exp is deprecated and will be removed in SciPy 2.0.0, use numpy.exp instead\n"
     ]
    },
    {
     "data": {
      "image/png": "[encoded data removed]",
      "text/plain": [
       "<Figure size 432x288 with 1 Axes>"
      ]
     },
     "metadata": {
      "needs_background": "light"
     },
     "output_type": "display_data"
    }
   ],
   "source": [
    "if __name__ == '__main__':\n",
    "    runner = HodgkinHuxley()\n",
    "    runner.Main()"
   ]
  },
  {
   "cell_type": "code",
   "execution_count": null,
   "metadata": {},
   "outputs": [],
   "source": []
  }
 ],
 "metadata": {
  "kernelspec": {
   "display_name": "Python 3",
   "language": "python",
   "name": "python3"
  },
  "language_info": {
   "codemirror_mode": {
    "name": "ipython",
    "version": 3
   },
   "file_extension": ".py",
   "mimetype": "text/x-python",
   "name": "python",
   "nbconvert_exporter": "python",
   "pygments_lexer": "ipython3",
   "version": "3.7.6"
  }
 },
 "nbformat": 4,
 "nbformat_minor": 4
}
