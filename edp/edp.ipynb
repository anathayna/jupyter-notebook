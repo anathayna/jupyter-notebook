{
 "cells": [
  {
   "cell_type": "code",
   "execution_count": 12,
   "metadata": {},
   "outputs": [],
   "source": [
    "import matplotlib.pyplot as plt\n",
    "from sympy import *\n",
    "import math"
   ]
  },
  {
   "cell_type": "code",
   "execution_count": 13,
   "metadata": {},
   "outputs": [],
   "source": [
    "# Equações Diferenciais Parciais (EDP)"
   ]
  },
  {
   "cell_type": "code",
   "execution_count": 14,
   "metadata": {},
   "outputs": [],
   "source": [
    "# Equação Diferenças Progressivas, Atrasadas e Centrais"
   ]
  },
  {
   "cell_type": "code",
   "execution_count": 15,
   "metadata": {},
   "outputs": [],
   "source": [
    "# função f(x) = 10cos(x) em x = pi/6\n",
    "# passos x = 0.1, 0.02 e 0.0001\n",
    "# utilize os três métodos a\n",
    "# compare verificando o ER% = (sol. exata – sol. numérica)x100% / sol. exata"
   ]
  },
  {
   "cell_type": "code",
   "execution_count": 19,
   "metadata": {},
   "outputs": [],
   "source": [
    "x = [0.1, 0.02, 0.0001]\n",
    "x1 = 0.1\n",
    "x2 = 0.02\n",
    "x3 = 0.0001"
   ]
  },
  {
   "cell_type": "code",
   "execution_count": 20,
   "metadata": {},
   "outputs": [],
   "source": [
    "def f(x):\n",
    "    pi = 3.14\n",
    "    x = pi / 6\n",
    "    10 * cos(x)"
   ]
  },
  {
   "cell_type": "code",
   "execution_count": 21,
   "metadata": {},
   "outputs": [],
   "source": [
    "def progressiva():\n",
    "    dfdx = ( f(i+1) - f(i) / x ) * o(x)\n",
    "\n",
    "def atrasada():\n",
    "    dfdx = ( f(i) - f(i-1) / x ) * o(x)\n",
    "\n",
    "def central():\n",
    "    dfdx = ( f(i+1) - f(i-1) / 2 * x ) * o(x) * o(x)"
   ]
  },
  {
   "cell_type": "code",
   "execution_count": 23,
   "metadata": {},
   "outputs": [],
   "source": [
    "# Erro Relativo: ER% = (sol. exata – sol. numérica)x100% / sol. exata"
   ]
  },
  {
   "cell_type": "code",
   "execution_count": null,
   "metadata": {},
   "outputs": [],
   "source": []
  }
 ],
 "metadata": {
  "kernelspec": {
   "display_name": "Python 3",
   "language": "python",
   "name": "python3"
  },
  "language_info": {
   "codemirror_mode": {
    "name": "ipython",
    "version": 3
   },
   "file_extension": ".py",
   "mimetype": "text/x-python",
   "name": "python",
   "nbconvert_exporter": "python",
   "pygments_lexer": "ipython3",
   "version": "3.7.6"
  }
 },
 "nbformat": 4,
 "nbformat_minor": 4
}
