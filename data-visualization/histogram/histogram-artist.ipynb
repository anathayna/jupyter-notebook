{
 "cells": [
  {
   "cell_type": "code",
   "execution_count": 11,
   "metadata": {},
   "outputs": [],
   "source": [
    "from matplotlib.backends.backend_agg import FigureCanvasAgg as FigureCanvas"
   ]
  },
  {
   "cell_type": "code",
   "execution_count": 12,
   "metadata": {},
   "outputs": [],
   "source": [
    "from matplotlib.figure import Figure"
   ]
  },
  {
   "cell_type": "code",
   "execution_count": 13,
   "metadata": {},
   "outputs": [],
   "source": [
    "fig = Figure()\n",
    "canvas = FigureCanvas(fig)"
   ]
  },
  {
   "cell_type": "code",
   "execution_count": 14,
   "metadata": {},
   "outputs": [],
   "source": [
    "import numpy as np"
   ]
  },
  {
   "cell_type": "code",
   "execution_count": 15,
   "metadata": {},
   "outputs": [],
   "source": [
    "x = np.random.randn(10000)"
   ]
  },
  {
   "cell_type": "code",
   "execution_count": 16,
   "metadata": {},
   "outputs": [],
   "source": [
    "ax = fig.add_subplot(111)"
   ]
  },
  {
   "cell_type": "code",
   "execution_count": 17,
   "metadata": {},
   "outputs": [
    {
     "data": {
      "text/plain": [
       "(array([  2.,   0.,   3.,   1.,   1.,   0.,   2.,   0.,   4.,   2.,   5.,\n",
       "          3.,   8.,   7.,   7.,  10.,  16.,   9.,  21.,  22.,  21.,  25.,\n",
       "         37.,  36.,  48.,  45.,  39.,  63.,  73.,  76.,  71.,  82., 106.,\n",
       "        127., 127., 138., 168., 165., 190., 193., 221., 221., 221., 244.,\n",
       "        262., 237., 280., 290., 269., 285., 277., 279., 275., 296., 292.,\n",
       "        296., 275., 246., 229., 240., 239., 213., 202., 208., 177., 181.,\n",
       "        163., 161., 154., 135.,  96., 133.,  94.,  73.,  92.,  69.,  55.,\n",
       "         56.,  46.,  47.,  22.,  28.,  26.,  22.,  15.,  21.,  20.,  12.,\n",
       "         11.,   4.,  10.,   5.,   5.,   5.,   3.,   5.,   2.,   1.,   0.,\n",
       "          1.]),\n",
       " array([-3.71133699, -3.63975124, -3.56816548, -3.49657973, -3.42499398,\n",
       "        -3.35340823, -3.28182247, -3.21023672, -3.13865097, -3.06706521,\n",
       "        -2.99547946, -2.92389371, -2.85230796, -2.7807222 , -2.70913645,\n",
       "        -2.6375507 , -2.56596494, -2.49437919, -2.42279344, -2.35120768,\n",
       "        -2.27962193, -2.20803618, -2.13645043, -2.06486467, -1.99327892,\n",
       "        -1.92169317, -1.85010741, -1.77852166, -1.70693591, -1.63535016,\n",
       "        -1.5637644 , -1.49217865, -1.4205929 , -1.34900714, -1.27742139,\n",
       "        -1.20583564, -1.13424988, -1.06266413, -0.99107838, -0.91949263,\n",
       "        -0.84790687, -0.77632112, -0.70473537, -0.63314961, -0.56156386,\n",
       "        -0.48997811, -0.41839236, -0.3468066 , -0.27522085, -0.2036351 ,\n",
       "        -0.13204934, -0.06046359,  0.01112216,  0.08270792,  0.15429367,\n",
       "         0.22587942,  0.29746517,  0.36905093,  0.44063668,  0.51222243,\n",
       "         0.58380819,  0.65539394,  0.72697969,  0.79856544,  0.8701512 ,\n",
       "         0.94173695,  1.0133227 ,  1.08490846,  1.15649421,  1.22807996,\n",
       "         1.29966572,  1.37125147,  1.44283722,  1.51442297,  1.58600873,\n",
       "         1.65759448,  1.72918023,  1.80076599,  1.87235174,  1.94393749,\n",
       "         2.01552324,  2.087109  ,  2.15869475,  2.2302805 ,  2.30186626,\n",
       "         2.37345201,  2.44503776,  2.51662352,  2.58820927,  2.65979502,\n",
       "         2.73138077,  2.80296653,  2.87455228,  2.94613803,  3.01772379,\n",
       "         3.08930954,  3.16089529,  3.23248104,  3.3040668 ,  3.37565255,\n",
       "         3.4472383 ]),\n",
       " <a list of 100 Patch objects>)"
      ]
     },
     "execution_count": 17,
     "metadata": {},
     "output_type": "execute_result"
    }
   ],
   "source": [
    "ax.hist(x,100)"
   ]
  },
  {
   "cell_type": "code",
   "execution_count": 18,
   "metadata": {},
   "outputs": [
    {
     "data": {
      "text/plain": [
       "Text(0.5, 1.0, 'Normal distribution with $\\\\mu=0, \\\\sigma=1$')"
      ]
     },
     "execution_count": 18,
     "metadata": {},
     "output_type": "execute_result"
    }
   ],
   "source": [
    "ax.set_title('Normal distribution with $\\mu=0, \\sigma=1$')"
   ]
  },
  {
   "cell_type": "code",
   "execution_count": 19,
   "metadata": {},
   "outputs": [],
   "source": [
    "fig.savefig('histogram-artist.png')"
   ]
  },
  {
   "cell_type": "code",
   "execution_count": null,
   "metadata": {},
   "outputs": [],
   "source": []
  }
 ],
 "metadata": {
  "kernelspec": {
   "display_name": "Python 3",
   "language": "python",
   "name": "python3"
  },
  "language_info": {
   "codemirror_mode": {
    "name": "ipython",
    "version": 3
   },
   "file_extension": ".py",
   "mimetype": "text/x-python",
   "name": "python",
   "nbconvert_exporter": "python",
   "pygments_lexer": "ipython3",
   "version": "3.7.6"
  }
 },
 "nbformat": 4,
 "nbformat_minor": 2
}
