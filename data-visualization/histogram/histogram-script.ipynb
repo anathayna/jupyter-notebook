{
 "cells": [
  {
   "cell_type": "code",
   "execution_count": 1,
   "metadata": {},
   "outputs": [],
   "source": [
    "import matplotlib.pyplot as plt"
   ]
  },
  {
   "cell_type": "code",
   "execution_count": 2,
   "metadata": {},
   "outputs": [],
   "source": [
    "import numpy as np"
   ]
  },
  {
   "cell_type": "code",
   "execution_count": 3,
   "metadata": {},
   "outputs": [],
   "source": [
    "x = np.random.randn(10000)"
   ]
  },
  {
   "cell_type": "code",
   "execution_count": 4,
   "metadata": {},
   "outputs": [
    {
     "data": {
      "text/plain": [
       "(array([  1.,   0.,   0.,   0.,   0.,   0.,   0.,   0.,   0.,   0.,   0.,\n",
       "          0.,   1.,   0.,   4.,   1.,   2.,   1.,   1.,   5.,   2.,   5.,\n",
       "          9.,   7.,   9.,  21.,  18.,  17.,  31.,  39.,  42.,  49.,  64.,\n",
       "         87.,  69.,  88.,  74., 132., 136., 157., 194., 211., 183., 207.,\n",
       "        264., 252., 250., 278., 290., 357., 326., 361., 361., 365., 332.,\n",
       "        327., 346., 313., 328., 299., 275., 284., 277., 273., 252., 221.,\n",
       "        202., 188., 152., 138., 120., 111.,  82.,  83.,  63.,  76.,  49.,\n",
       "         41.,  39.,  30.,  21.,  17.,  15.,  18.,  12.,  11.,   7.,   6.,\n",
       "          4.,   4.,   3.,   1.,   3.,   2.,   0.,   1.,   1.,   0.,   1.,\n",
       "          1.]),\n",
       " array([-4.76619748, -4.6784453 , -4.59069312, -4.50294094, -4.41518876,\n",
       "        -4.32743658, -4.2396844 , -4.15193222, -4.06418004, -3.97642787,\n",
       "        -3.88867569, -3.80092351, -3.71317133, -3.62541915, -3.53766697,\n",
       "        -3.44991479, -3.36216261, -3.27441043, -3.18665825, -3.09890608,\n",
       "        -3.0111539 , -2.92340172, -2.83564954, -2.74789736, -2.66014518,\n",
       "        -2.572393  , -2.48464082, -2.39688864, -2.30913646, -2.22138429,\n",
       "        -2.13363211, -2.04587993, -1.95812775, -1.87037557, -1.78262339,\n",
       "        -1.69487121, -1.60711903, -1.51936685, -1.43161467, -1.3438625 ,\n",
       "        -1.25611032, -1.16835814, -1.08060596, -0.99285378, -0.9051016 ,\n",
       "        -0.81734942, -0.72959724, -0.64184506, -0.55409288, -0.46634071,\n",
       "        -0.37858853, -0.29083635, -0.20308417, -0.11533199, -0.02757981,\n",
       "         0.06017237,  0.14792455,  0.23567673,  0.32342891,  0.41118108,\n",
       "         0.49893326,  0.58668544,  0.67443762,  0.7621898 ,  0.84994198,\n",
       "         0.93769416,  1.02544634,  1.11319852,  1.2009507 ,  1.28870287,\n",
       "         1.37645505,  1.46420723,  1.55195941,  1.63971159,  1.72746377,\n",
       "         1.81521595,  1.90296813,  1.99072031,  2.07847249,  2.16622466,\n",
       "         2.25397684,  2.34172902,  2.4294812 ,  2.51723338,  2.60498556,\n",
       "         2.69273774,  2.78048992,  2.8682421 ,  2.95599428,  3.04374645,\n",
       "         3.13149863,  3.21925081,  3.30700299,  3.39475517,  3.48250735,\n",
       "         3.57025953,  3.65801171,  3.74576389,  3.83351606,  3.92126824,\n",
       "         4.00902042]),\n",
       " <a list of 100 Patch objects>)"
      ]
     },
     "execution_count": 4,
     "metadata": {},
     "output_type": "execute_result"
    },
    {
     "data": {
      "image/png": "[encoded data removed]",
      "text/plain": [
       "<Figure size 432x288 with 1 Axes>"
      ]
     },
     "metadata": {
      "needs_background": "light"
     },
     "output_type": "display_data"
    }
   ],
   "source": [
    "plt.hist(x, 100)"
   ]
  },
  {
   "cell_type": "code",
   "execution_count": 5,
   "metadata": {},
   "outputs": [
    {
     "data": {
      "text/plain": [
       "Text(0.5, 1.0, 'Normal distribution with $\\\\mu=0, \\\\sigma=1$')"
      ]
     },
     "execution_count": 5,
     "metadata": {},
     "output_type": "execute_result"
    },
    {
     "data": {
      "image/png": "[encoded data removed]",
      "text/plain": [
       "<Figure size 432x288 with 1 Axes>"
      ]
     },
     "metadata": {
      "needs_background": "light"
     },
     "output_type": "display_data"
    }
   ],
   "source": [
    "plt.title('Normal distribution with $\\mu=0, \\sigma=1$')"
   ]
  },
  {
   "cell_type": "code",
   "execution_count": 6,
   "metadata": {},
   "outputs": [
    {
     "data": {
      "text/plain": [
       "<Figure size 432x288 with 0 Axes>"
      ]
     },
     "metadata": {},
     "output_type": "display_data"
    }
   ],
   "source": [
    "plt.savefig('histogram-script.png')"
   ]
  },
  {
   "cell_type": "code",
   "execution_count": null,
   "metadata": {
    "collapsed": true
   },
   "outputs": [],
   "source": []
  }
 ],
 "metadata": {
  "kernelspec": {
   "display_name": "Python 3",
   "language": "python",
   "name": "python3"
  },
  "language_info": {
   "codemirror_mode": {
    "name": "ipython",
    "version": 3
   },
   "file_extension": ".py",
   "mimetype": "text/x-python",
   "name": "python",
   "nbconvert_exporter": "python",
   "pygments_lexer": "ipython3",
   "version": "3.7.6"
  }
 },
 "nbformat": 4,
 "nbformat_minor": 2
}
