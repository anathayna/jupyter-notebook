{
 "cells": [
  {
   "cell_type": "code",
   "execution_count": null,
   "metadata": {},
   "outputs": [],
   "source": [
    "import numpy as np\n",
    "from scipy.integrate import odeint\n",
    "%matplotlib inline\n",
    "import matplotlib.pyplot as plt"
   ]
  },
  {
   "cell_type": "code",
   "execution_count": null,
   "metadata": {},
   "outputs": [],
   "source": [
    "def taxaX1a(x1,x2):\n",
    "    return 0.02*x2-0.03*x1"
   ]
  },
  {
   "cell_type": "code",
   "execution_count": null,
   "metadata": {},
   "outputs": [],
   "source": [
    "def taxaX2a(x1,x2):\n",
    "    return 0.03*(x1 - x2)"
   ]
  },
  {
   "cell_type": "code",
   "execution_count": null,
   "metadata": {},
   "outputs": [],
   "source": [
    "def rungeKutta(h,f,x1,t):\n",
    "    k1 = h*f(x1, t)\n",
    "    k2 = h*f(x1 + 0.5*h, t + 0.5*k1)\n",
    "    k3 = h*f(x1 + 0.5*h, t + 0.5*k2)\n",
    "    k4 = h*f(x1 + h, t + k3)\n",
    "    return abs(x1 + (k1 /6 + k2/3 + k3/3 + k4 / 6))"
   ]
  },
  {
   "cell_type": "code",
   "execution_count": null,
   "metadata": {},
   "outputs": [],
   "source": [
    "def rungeKuttaA(x1,x2,v):\n",
    "    h = 0.01\n",
    "    t = 0.0\n",
    "    while x2[len(x2)-1]>0:\n",
    "        x2.append(rungeKutta(h,taxaX2a,x2[len(x2)-1],t))\n",
    "        x1.append(rungeKutta(h,taxaX1a,x1[len(x1)-1],t))\n",
    "        t += h\n",
    "        v.append(t)"
   ]
  },
  {
   "cell_type": "code",
   "execution_count": null,
   "metadata": {},
   "outputs": [],
   "source": [
    "x1 = [100.0]\n",
    "x2 = [10.0]\n",
    "v = [0.0]\n",
    "rungeKuttaA(x1,x2,v)\n",
    "print(\"X1\\t\\tX2\")"
   ]
  },
  {
   "cell_type": "code",
   "execution_count": null,
   "metadata": {},
   "outputs": [],
   "source": [
    "for i in range(len(x2)):\n",
    "    print(round(x1[i],2),\"\\t\",round(x2[i],2),\"\\t\")"
   ]
  },
  {
   "cell_type": "code",
   "execution_count": null,
   "metadata": {},
   "outputs": [],
   "source": [
    "fig, ax = plt.subplots()"
   ]
  },
  {
   "cell_type": "code",
   "execution_count": null,
   "metadata": {},
   "outputs": [],
   "source": [
    "ax.plot(v,x1)\n",
    "ax.plot(v,x2)"
   ]
  },
  {
   "cell_type": "code",
   "execution_count": null,
   "metadata": {},
   "outputs": [],
   "source": [
    "plt.show()"
   ]
  },
  {
   "cell_type": "code",
   "execution_count": null,
   "metadata": {},
   "outputs": [],
   "source": [
    "plt.savefig('edo.png')"
   ]
  },
  {
   "cell_type": "code",
   "execution_count": null,
   "metadata": {},
   "outputs": [],
   "source": []
  }
 ],
 "metadata": {
  "kernelspec": {
   "display_name": "Python 3",
   "language": "python",
   "name": "python3"
  },
  "language_info": {
   "codemirror_mode": {
    "name": "ipython",
    "version": 3
   },
   "file_extension": ".py",
   "mimetype": "text/x-python",
   "name": "python",
   "nbconvert_exporter": "python",
   "pygments_lexer": "ipython3",
   "version": "3.7.6"
  }
 },
 "nbformat": 4,
 "nbformat_minor": 4
}
