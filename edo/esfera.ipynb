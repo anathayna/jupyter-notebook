{
 "cells": [
  {
   "cell_type": "code",
   "execution_count": 1,
   "metadata": {},
   "outputs": [],
   "source": [
    "import numpy as np\n",
    "from scipy.integrate import odeint\n",
    "%matplotlib inline\n",
    "import matplotlib.pyplot as plt"
   ]
  },
  {
   "cell_type": "code",
   "execution_count": 2,
   "metadata": {},
   "outputs": [],
   "source": [
    "def derivate(v,t):\n",
    "    b = 0.2\n",
    "    m = 1\n",
    "    g = 9.8\n",
    "    dvdt = (((-1 * b / m) * (v**2)) - g)\n",
    "    return dvdt"
   ]
  },
  {
   "cell_type": "code",
   "execution_count": 3,
   "metadata": {},
   "outputs": [],
   "source": [
    "#euler method: yn+1 = yn + h * f(xn, yn)"
   ]
  },
  {
   "cell_type": "code",
   "execution_count": 4,
   "metadata": {},
   "outputs": [],
   "source": [
    "def euler(func):\n",
    "    v = []\n",
    "    t = []\n",
    "    v.insert(0, 1)\n",
    "    t.insert(0, 0)\n",
    "    \n",
    "    h = 0.001 \n",
    "    n = 10\n",
    "\n",
    "    for i in range(n):\n",
    "        t.insert(i+1, t[i] + h)\n",
    "        v.insert(i+1, v[i] + h * func(v[i], t[i]))\n",
    "\n",
    "    return v, t"
   ]
  },
  {
   "cell_type": "code",
   "execution_count": 5,
   "metadata": {},
   "outputs": [
    {
     "data": {
      "text/plain": [
       "([1,\n",
       "  0.99,\n",
       "  0.98000398,\n",
       "  0.9700118984398368,\n",
       "  0.9600237138232138,\n",
       "  0.9500393847169932,\n",
       "  0.9400588697504906,\n",
       "  0.9300821276147713,\n",
       "  0.9201091170619495,\n",
       "  0.9101397969044894,\n",
       "  0.9001741260145075],\n",
       " [0,\n",
       "  0.001,\n",
       "  0.002,\n",
       "  0.003,\n",
       "  0.004,\n",
       "  0.005,\n",
       "  0.006,\n",
       "  0.007,\n",
       "  0.008,\n",
       "  0.009000000000000001,\n",
       "  0.010000000000000002])"
      ]
     },
     "execution_count": 5,
     "metadata": {},
     "output_type": "execute_result"
    }
   ],
   "source": [
    "euler(derivate)"
   ]
  },
  {
   "cell_type": "code",
   "execution_count": 6,
   "metadata": {},
   "outputs": [],
   "source": [
    "v, t = euler(derivate)"
   ]
  },
  {
   "cell_type": "code",
   "execution_count": 7,
   "metadata": {},
   "outputs": [
    {
     "data": {
      "text/plain": [
       "[<matplotlib.lines.Line2D at 0x151a73f6d0>]"
      ]
     },
     "execution_count": 7,
     "metadata": {},
     "output_type": "execute_result"
    },
    {
     "data": {
      "image/png": "[encoded data removed]",
      "text/plain": [
       "<Figure size 432x288 with 1 Axes>"
      ]
     },
     "metadata": {
      "needs_background": "light"
     },
     "output_type": "display_data"
    }
   ],
   "source": [
    "plt.plot(v,t)"
   ]
  },
  {
   "cell_type": "code",
   "execution_count": null,
   "metadata": {},
   "outputs": [],
   "source": []
  }
 ],
 "metadata": {
  "kernelspec": {
   "display_name": "Python 3",
   "language": "python",
   "name": "python3"
  },
  "language_info": {
   "codemirror_mode": {
    "name": "ipython",
    "version": 3
   },
   "file_extension": ".py",
   "mimetype": "text/x-python",
   "name": "python",
   "nbconvert_exporter": "python",
   "pygments_lexer": "ipython3",
   "version": "3.7.6"
  }
 },
 "nbformat": 4,
 "nbformat_minor": 4
}
