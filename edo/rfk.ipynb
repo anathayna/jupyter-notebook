{
 "cells": [
  {
   "cell_type": "code",
   "execution_count": 4,
   "metadata": {},
   "outputs": [],
   "source": [
    "%matplotlib inline\n",
    "import matplotlib.pyplot as plt\n",
    "import math"
   ]
  },
  {
   "cell_type": "code",
   "execution_count": 5,
   "metadata": {},
   "outputs": [],
   "source": [
    "# Método de RKF e construa os gráficos das quantidades x1(t) e x2(t) \n",
    "# dados: x1(0) = 100, x2(0) = 10\n",
    "# k12 = 0.03 , k21 = 0.02 e k20 = 0.01 \n",
    "# x3(0) = 20 e k31 = 0.08\n",
    "# gráficos x1(t), x2(t) e x3(t)"
   ]
  },
  {
   "cell_type": "code",
   "execution_count": 6,
   "metadata": {},
   "outputs": [],
   "source": [
    "def k1(t, c, a):\n",
    "    return c / (Math.exp(t) - 1) + 2 * Math.sin(t) * a / (Math.cos(t) * (1 + Math.exp(-t)))"
   ]
  },
  {
   "cell_type": "code",
   "execution_count": 7,
   "metadata": {},
   "outputs": [],
   "source": [
    "def k21(t, c, a, k1, h):\n",
    "    return (c + k1 / 2) / (Math.exp(t + h / 2) - 1) + 2 * Math.sin(t + h / 2) * (a + k1 / 2) / (Math.cos(t + h / 2) * (1 + Math.exp(-(t + h / 2))))"
   ]
  },
  {
   "cell_type": "code",
   "execution_count": 8,
   "metadata": {},
   "outputs": [],
   "source": [
    "def k31(t, c, a, k2, h):\n",
    "    return (c + k2 / 2) / (Math.exp(t + h / 2) - 1) + 2 * Math.sin(t + h / 2) * (a + k2 / 2) / (Math.cos(t + h / 2) * (1 + Math.exp(-(t + h / 2))))"
   ]
  },
  {
   "cell_type": "code",
   "execution_count": 9,
   "metadata": {},
   "outputs": [],
   "source": [
    "def k41(t, c, a, k3, h):\n",
    "    return (c + k3) / (Math.exp(t + h / 2) - 1) + 2 * Math.sin(t + h / 2) * (a + k3) / (Math.cos(t + h / 2) * (1 + Math.exp(-(t + h / 2))))"
   ]
  },
  {
   "cell_type": "code",
   "execution_count": 10,
   "metadata": {},
   "outputs": [],
   "source": [
    "def k12(t, c, a):\n",
    "    return 2 * a / (Math.exp(2 * t) - 1) - 2 * (1 + Math.exp(-t)) * Math.cos(t) * c / Math.sin(t)"
   ]
  },
  {
   "cell_type": "code",
   "execution_count": 11,
   "metadata": {},
   "outputs": [],
   "source": [
    "def k22(t, c, a, k1, h):\n",
    "    return 2 * (a + k1 / 2) / (Math.exp(2 * (t + h / 2)) - 1) - 2 * (1 + Math.exp(-(t + h / 2))) * Math.cos(t + h / 2) * (c + k1 / 2) / Math.sin(t + h / 2)"
   ]
  },
  {
   "cell_type": "code",
   "execution_count": 12,
   "metadata": {},
   "outputs": [],
   "source": [
    "def k32(t, c, a, k2, h):\n",
    "    return 2 * (a + k2 / 2) / (Math.exp(2 * (t + h / 2)) - 1) - 2 * (1 + Math.exp(-(t + h / 2))) * Math.cos(t + h / 2) * (c + k2 / 2) / Math.sin(t + h / 2)"
   ]
  },
  {
   "cell_type": "code",
   "execution_count": 13,
   "metadata": {},
   "outputs": [],
   "source": [
    "def k42(t, c, a, k3, h):\n",
    "    return 2 * (a + k3) / (Math.exp(2 * (t + h / 2)) - 1) - 2 * (1 + Math.exp(-(t + h / 2))) * Math.cos(t + h / 2) * (c + k3) / Math.sin(t + h / 2)"
   ]
  },
  {
   "cell_type": "code",
   "execution_count": 21,
   "metadata": {},
   "outputs": [],
   "source": [
    "def main():\n",
    "    h = 0.001\n",
    "    t = 0.1\n",
    "    c = 0.94845796\n",
    "    a = 179.4625887\n",
    "    auxa = 0\n",
    "    auxc = 0\n",
    "    k11 = 0 \n",
    "    k12 = 0\n",
    "    k13 = 0\n",
    "    k14 = 0\n",
    "    k21 = 0\n",
    "    k22 = 0\n",
    "    k23 = 0\n",
    "    k24 = 0\n",
    "    \n",
    "    while t < 4:\n",
    "        auxa = a\n",
    "        auxc = c\n",
    "        k11 = h*k11(t, c, a)\n",
    "        k21 = h*k12(t, c, a)\n",
    "        k12 = h*k21(t, c, a, k11, h)\n",
    "        k22 = h*k22(t, c, a, k21, h)\n",
    "        k13 = h*k31(t, c, a, k12, h)\n",
    "        k23 = h*k32(t, c, a, k22, h)\n",
    "        k14 = h*k41(t, c, a, k13, h)\n",
    "        k24 = h*k42(t, c, a, k23, h)\n",
    "        print(t + \"\\t\" + c + \"\\t\" + a)\n",
    "        c = c + (k11 + 2 * k12 + 2 * k13 + k14) / 6\n",
    "        a = a + (k21 + 2 * k22 + 2 * k23 + k24) / 6\n",
    "        erro = (a - auxa) / auxa + (c - auxc) / auxc\n",
    "\n",
    "        t = t + h"
   ]
  },
  {
   "cell_type": "code",
   "execution_count": null,
   "metadata": {},
   "outputs": [],
   "source": []
  }
 ],
 "metadata": {
  "kernelspec": {
   "display_name": "Python 3",
   "language": "python",
   "name": "python3"
  },
  "language_info": {
   "codemirror_mode": {
    "name": "ipython",
    "version": 3
   },
   "file_extension": ".py",
   "mimetype": "text/x-python",
   "name": "python",
   "nbconvert_exporter": "python",
   "pygments_lexer": "ipython3",
   "version": "3.7.6"
  }
 },
 "nbformat": 4,
 "nbformat_minor": 4
}
