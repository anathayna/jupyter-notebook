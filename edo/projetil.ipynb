{
 "cells": [
  {
   "cell_type": "code",
   "execution_count": 4,
   "metadata": {},
   "outputs": [],
   "source": [
    "import numpy as np\n",
    "from scipy.integrate import odeint\n",
    "%matplotlib inline\n",
    "import matplotlib.pyplot as plt"
   ]
  },
  {
   "cell_type": "code",
   "execution_count": 5,
   "metadata": {},
   "outputs": [],
   "source": [
    "def derivate(v,t):\n",
    "    b = 0.2\n",
    "    m = 1\n",
    "    g = 9.8\n",
    "    dvdt = ((((- b)/m) * v**2) - g)\n",
    "    return dvdt"
   ]
  },
  {
   "cell_type": "code",
   "execution_count": 6,
   "metadata": {},
   "outputs": [],
   "source": [
    "t = np.linspace(0,10,11)"
   ]
  },
  {
   "cell_type": "code",
   "execution_count": 7,
   "metadata": {},
   "outputs": [
    {
     "name": "stderr",
     "output_type": "stream",
     "text": [
      "/Users/anathayna/opt/anaconda3/lib/python3.7/site-packages/scipy/integrate/odepack.py:248: ODEintWarning: Excess work done on this call (perhaps wrong Dfun type). Run with full_output = 1 to get quantitative information.\n",
      "  warnings.warn(warning_msg, ODEintWarning)\n"
     ]
    }
   ],
   "source": [
    "y = odeint(derivate, 0, t)"
   ]
  },
  {
   "cell_type": "code",
   "execution_count": 9,
   "metadata": {},
   "outputs": [
    {
     "name": "stdout",
     "output_type": "stream",
     "text": [
      "[[ 0.00000000e+000]\n",
      " [-4.05852292e+001]\n",
      " [-5.81890811e+010]\n",
      " [ 2.22150739e-314]\n",
      " [ 2.22150741e-314]\n",
      " [ 4.48160837e-313]\n",
      " [ 0.00000000e+000]\n",
      " [ 0.00000000e+000]\n",
      " [ 0.00000000e+000]\n",
      " [ 0.00000000e+000]\n",
      " [ 0.00000000e+000]]\n"
     ]
    }
   ],
   "source": [
    "print(y)"
   ]
  },
  {
   "cell_type": "code",
   "execution_count": 8,
   "metadata": {},
   "outputs": [
    {
     "data": {
      "text/plain": [
       "[<matplotlib.lines.Line2D at 0x151f4584d0>]"
      ]
     },
     "execution_count": 8,
     "metadata": {},
     "output_type": "execute_result"
    },
    {
     "data": {
      "image/png": "[encoded data removed]",
      "text/plain": [
       "<Figure size 432x288 with 1 Axes>"
      ]
     },
     "metadata": {
      "needs_background": "light"
     },
     "output_type": "display_data"
    }
   ],
   "source": [
    "plt.plot(t,y)"
   ]
  },
  {
   "cell_type": "code",
   "execution_count": 12,
   "metadata": {},
   "outputs": [],
   "source": [
    "pontos = 20\n",
    "nt = 1000\n",
    "h = round(0.1, 1)\n",
    "t = round(0.0, 1)\n",
    "n = 0\n",
    "taxa = 0.1155"
   ]
  },
  {
   "cell_type": "code",
   "execution_count": 13,
   "metadata": {},
   "outputs": [],
   "source": [
    "ntArray = [nt]\n",
    "tArray = [t]"
   ]
  },
  {
   "cell_type": "code",
   "execution_count": 14,
   "metadata": {},
   "outputs": [
    {
     "name": "stdout",
     "output_type": "stream",
     "text": [
      "Tempo: 0.0    Valor: 1000\n",
      "Tempo: 0.1    Valor: 988.45\n",
      "Tempo: 0.2    Valor: 977.0334025000001\n",
      "Tempo: 0.3    Valor: 965.7486667011251\n",
      "Tempo: 0.4    Valor: 954.5942696007271\n",
      "Tempo: 0.5    Valor: 943.5687057868387\n",
      "Tempo: 0.6    Valor: 932.6704872350007\n",
      "Tempo: 0.7    Valor: 921.8981431074365\n",
      "Tempo: 0.8    Valor: 911.2502195545455\n",
      "Tempo: 0.9    Valor: 900.7252795186905\n",
      "Tempo: 1.0    Valor: 890.3219025402497\n",
      "Tempo: 1.1    Valor: 880.0386845659098\n",
      "Tempo: 1.2    Valor: 869.8742377591735\n",
      "Tempo: 1.3    Valor: 859.8271903130551\n",
      "Tempo: 1.4    Valor: 849.8961862649393\n",
      "Tempo: 1.5    Valor: 840.0798853135792\n",
      "Tempo: 1.6    Valor: 830.3769626382074\n",
      "Tempo: 1.7    Valor: 820.786108719736\n",
      "Tempo: 1.8    Valor: 811.3060291640231\n",
      "Tempo: 1.9    Valor: 801.9354445271787\n"
     ]
    }
   ],
   "source": [
    "while n < pontos:\n",
    "    print('Tempo: ' + str(round(t, 1)) + '    Valor: ' + str(nt))\n",
    "    nt = nt + h * (-taxa * nt)\n",
    "    ntArray.append(nt)\n",
    "    t = sum([t, h])\n",
    "    tArray.append(round(t, 1))\n",
    "    n = n + 1"
   ]
  },
  {
   "cell_type": "code",
   "execution_count": 15,
   "metadata": {},
   "outputs": [
    {
     "data": {
      "image/png": "[encoded data removed]",
      "text/plain": [
       "<Figure size 432x288 with 1 Axes>"
      ]
     },
     "metadata": {},
     "output_type": "display_data"
    }
   ],
   "source": [
    "graf = plt.figure(facecolor='w')\n",
    "plt.xlabel('T [horas]')\n",
    "plt.ylabel('Radioatividade')\n",
    "plt.plot(tArray, ntArray, 'b', label='Decaimento radioativo')\n",
    "plt.legend()\n",
    "plt.show()"
   ]
  },
  {
   "cell_type": "code",
   "execution_count": null,
   "metadata": {},
   "outputs": [],
   "source": []
  }
 ],
 "metadata": {
  "kernelspec": {
   "display_name": "Python 3",
   "language": "python",
   "name": "python3"
  },
  "language_info": {
   "codemirror_mode": {
    "name": "ipython",
    "version": 3
   },
   "file_extension": ".py",
   "mimetype": "text/x-python",
   "name": "python",
   "nbconvert_exporter": "python",
   "pygments_lexer": "ipython3",
   "version": "3.7.6"
  }
 },
 "nbformat": 4,
 "nbformat_minor": 4
}
