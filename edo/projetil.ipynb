{
 "cells": [
  {
   "cell_type": "code",
   "execution_count": 17,
   "metadata": {},
   "outputs": [],
   "source": [
    "import numpy as np\n",
    "from scipy.integrate import odeint\n",
    "%matplotlib inline\n",
    "import matplotlib.pyplot as plt"
   ]
  },
  {
   "cell_type": "code",
   "execution_count": 18,
   "metadata": {},
   "outputs": [],
   "source": [
    "# c: coef. de arrasto é adimensional (corpo esférico C =0,5)\n",
    "# a: área (m2)\n",
    "# p: densidade do fluido (kg/m3)\n",
    "# u: viscosidade do fluido (kg/m/s)\n",
    "# l: dimensão do corpo (m)\n",
    "# re: número de reynolds (adimensional) "
   ]
  },
  {
   "cell_type": "code",
   "execution_count": 19,
   "metadata": {},
   "outputs": [],
   "source": [
    "# re = arrasto inercial / arrasto viscoso\n",
    "# fa = 1/2 cpav**2\n",
    "# re = pvl / u"
   ]
  },
  {
   "cell_type": "code",
   "execution_count": 20,
   "metadata": {},
   "outputs": [],
   "source": [
    "#fa = b\n",
    "def derivate(v,t):\n",
    "    c = 0.5\n",
    "    p = 1\n",
    "    b = 1/2 * c * p * v**2\n",
    "    m = 1\n",
    "    g = 9.8\n",
    "    dvdt = (((-1 * b / m) * (v**2)) - g)\n",
    "    return dvdt"
   ]
  },
  {
   "cell_type": "code",
   "execution_count": 31,
   "metadata": {},
   "outputs": [],
   "source": [
    "def analitica(func):\n",
    "    v = []\n",
    "    t = []\n",
    "    v.insert(0, 1)\n",
    "    t.insert(0, 0)\n",
    "    \n",
    "    h = 0.001 \n",
    "    n = 10\n",
    "\n",
    "    for i in range(n):\n",
    "        t.insert(i+1, t[i] + h)\n",
    "        v.insert(i+1, v[i] + h * func(v[i], t[i]))\n",
    "        \n",
    "    return v, t"
   ]
  },
  {
   "cell_type": "code",
   "execution_count": 33,
   "metadata": {},
   "outputs": [
    {
     "data": {
      "text/plain": [
       "([1,\n",
       "  0.98995,\n",
       "  0.9799098995087747,\n",
       "  0.969879392258942,\n",
       "  0.9598581791113427,\n",
       "  0.9498459679175868,\n",
       "  0.9398424733862281,\n",
       "  0.9298474169524273,\n",
       "  0.9198605266509686,\n",
       "  0.9098815369924971,\n",
       "  0.8999101888428539],\n",
       " [0,\n",
       "  0.001,\n",
       "  0.002,\n",
       "  0.003,\n",
       "  0.004,\n",
       "  0.005,\n",
       "  0.006,\n",
       "  0.007,\n",
       "  0.008,\n",
       "  0.009000000000000001,\n",
       "  0.010000000000000002])"
      ]
     },
     "execution_count": 33,
     "metadata": {},
     "output_type": "execute_result"
    }
   ],
   "source": [
    "analitica(derivate)"
   ]
  },
  {
   "cell_type": "code",
   "execution_count": null,
   "metadata": {},
   "outputs": [],
   "source": []
  }
 ],
 "metadata": {
  "kernelspec": {
   "display_name": "Python 3",
   "language": "python",
   "name": "python3"
  },
  "language_info": {
   "codemirror_mode": {
    "name": "ipython",
    "version": 3
   },
   "file_extension": ".py",
   "mimetype": "text/x-python",
   "name": "python",
   "nbconvert_exporter": "python",
   "pygments_lexer": "ipython3",
   "version": "3.7.6"
  }
 },
 "nbformat": 4,
 "nbformat_minor": 4
}
