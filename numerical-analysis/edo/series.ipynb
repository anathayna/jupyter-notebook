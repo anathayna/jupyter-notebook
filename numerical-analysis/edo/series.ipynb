{
 "cells": [
  {
   "cell_type": "code",
   "execution_count": 48,
   "metadata": {},
   "outputs": [],
   "source": [
    "from scipy.integrate import solve_ivp\n",
    "import matplotlib.pyplot as plt\n",
    "import pandas as pd\n",
    "import requests\n",
    "import math\n",
    "import csv\n",
    "import os"
   ]
  },
  {
   "cell_type": "code",
   "execution_count": 49,
   "metadata": {},
   "outputs": [],
   "source": [
    "# https://github.com/CSSEGISandData/COVID-19/tree/master/csse_covid_19_data/csse_covid_19_time_series.csv"
   ]
  },
  {
   "cell_type": "code",
   "execution_count": 50,
   "metadata": {},
   "outputs": [],
   "source": [
    "data = [\"1/22/20\",\"1/23/20\",\"1/24/20\",\"1/25/20\",\"1/26/20\",\"1/27/20\",\"1/28/20\",\"1/29/20\",\"1/30/20\",\"1/31/20\",\"2/1/20\",\"2/2/20\",\"2/3/20\",\"2/4/20\",\"2/5/20\",\"2/6/20\",\"2/7/20\",\"2/8/20\",\"2/9/20\",\"2/10/20\",\"2/11/20\",\"2/12/20\",\"2/13/20\",\"2/14/20\",\"2/15/20\",\"2/16/20\",\"2/17/20\",\"2/18/20\",\"2/19/20\",\"2/20/20\",\"2/21/20\",\"2/22/20\",\"2/23/20\",\"2/24/20\",\"2/25/20\",\"2/26/20\",\"2/27/20\",\"2/28/20\",\"2/29/20\",\"3/1/20\",\"3/2/20\",\"3/3/20\",\"3/4/20\",\"3/5/20\",\"3/6/20\",\"3/7/20\",\"3/8/20\",\"3/9/20\",\"3/10/20\",\"3/11/20\",\"3/12/20\",\"3/13/20\",\"3/14/20\",\"3/15/20\",\"3/16/20\",\"3/17/20\",\"3/18/20\",\"3/19/20\",\"3/20/20\",\"3/21/20\",\"3/22/20\",\"3/23/20\",\"3/24/20\",\"3/25/20\",\"3/26/20\",\"3/27/20\",\"3/28/20\",\"3/29/20\",\"3/30/20\",\"3/31/20\",\"4/1/20\",\"4/2/20\",\"4/3/20\",\"4/4/20\",\"4/5/20\",\"4/6/20\",\"4/7/20\",\"4/8/20\",\"4/9/20\",\"4/10/20\",\"4/11/20\",\"4/12/20\",\"4/13/20\",\"4/14/20\",\"4/15/20\",\"4/16/20\",\"4/17/20\",\"4/18/20\",\"4/19/20\",\"4/20/20\",\"4/21/20\",\"4/22/20\",\"4/23/20\",\"4/24/20\",\"4/25/20\",\"4/26/20\",\"4/27/20\",\"4/28/20\",\"4/29/20\",\"4/30/20\",\"5/1/20\",\"5/2/20\",\"5/3/20\",\"5/4/20\",\"5/5/20\",\"5/6/20\",\"5/7/20\",\"5/8/20\",\"5/9/20\"]"
   ]
  },
  {
   "cell_type": "code",
   "execution_count": 51,
   "metadata": {},
   "outputs": [],
   "source": [
    "confirmed = [0,0,0,0,0,0,0,0,0,0,0,0,0,0,0,0,0,0,0,0,0,0,0,0,0,0,0,0,0,0,0,0,0,0,0,1,1,1,2,2,2,2,4,4,13,13,20,25,31,38,52,151,151,162,200,321,372,621,793,1021,1546,1924,2247,2554,2985,3417,3904,4256,4579,5717,6836,8044,9056,10360,11130,12161,14034,16170,18092,19638,20727,22192,23430,25262,28320,30425,33682,36658,38654,40743,43079,45757,50036,54043,59324,63100,67446,73235,79685,87187,92202,97100,101826,108620,115455,126611,135773,146894,156061]"
   ]
  },
  {
   "cell_type": "code",
   "execution_count": 52,
   "metadata": {},
   "outputs": [],
   "source": [
    "death = [0,0,0,0,0,0,0,0,0,0,0,0,0,0,0,0,0,0,0,0,0,0,0,0,0,0,0,0,0,0,0,0,0,0,0,0,0,0,0,0,0,0,0,0,0,0,0,0,0,0,0,0,0,0,0,1,3,6,11,15,25,34,46,59,77,92,111,136,159,201,240,324,359,445,486,564,686,819,950,1057,1124,1223,1328,1532,1736,1924,2141,2354,2462,2587,2741,2906,3331,3704,4057,4286,4603,5083,5513,6006,6412,6761,7051,7367,7938,8588,9190,10017,10656]"
   ]
  },
  {
   "cell_type": "code",
   "execution_count": 53,
   "metadata": {},
   "outputs": [],
   "source": [
    "recovered = [0,0,0,0,0,0,0,0,0,0,0,0,0,0,0,0,0,0,0,0,0,0,0,0,0,0,0,0,0,0,0,0,0,0,0,0,0,0,0,0,0,0,0,0,0,0,0,0,0,0,0,0,0,0,1,2,2,2,2,2,2,2,2,2,6,6,6,6,120,127,127,127,127,127,127,127,127,127,173,173,173,173,173,3046,14026,14026,14026,14026,22130,22130,22991,25318,26573,27655,29160,30152,31142,32544,34132,35935,38039,40937,42991,45815,48221,51370,55350,59297,61685]"
   ]
  },
  {
   "cell_type": "code",
   "execution_count": 54,
   "metadata": {},
   "outputs": [],
   "source": [
    "n = 20000000"
   ]
  },
  {
   "cell_type": "code",
   "execution_count": 55,
   "metadata": {},
   "outputs": [],
   "source": [
    "def med(v):\n",
    "    cases = len(v)\n",
    "    casesAt = v[cases-1]\n",
    "    media = casesAt/cases\n",
    "    return media"
   ]
  },
  {
   "cell_type": "code",
   "execution_count": 56,
   "metadata": {},
   "outputs": [],
   "source": [
    "def qtd(v):\n",
    "    cases = len(v)\n",
    "    casesAt = v[cases-1]\n",
    "    return casesAt"
   ]
  },
  {
   "cell_type": "code",
   "execution_count": 57,
   "metadata": {},
   "outputs": [],
   "source": [
    "medC = med(confirmed)\n",
    "medM = med(death)\n",
    "medR = med(recovered)"
   ]
  },
  {
   "cell_type": "code",
   "execution_count": 58,
   "metadata": {},
   "outputs": [],
   "source": [
    "qtdC = qtd(confirmed)\n",
    "qtdM = qtd(death)\n",
    "qtdR = qtd(recovered)"
   ]
  },
  {
   "cell_type": "code",
   "execution_count": 59,
   "metadata": {},
   "outputs": [],
   "source": [
    "dxDt = qtdC/N\n",
    "dbDt = qtdR/qtdC\n",
    "dyDt = qtdM/qtdC"
   ]
  },
  {
   "cell_type": "code",
   "execution_count": 60,
   "metadata": {},
   "outputs": [],
   "source": [
    "I0 = qtdC\n",
    "R0 = qtdR\n",
    "M0 = qtdM"
   ]
  },
  {
   "cell_type": "code",
   "execution_count": 61,
   "metadata": {},
   "outputs": [],
   "source": [
    "S0 = N - I0 - R0 - M0"
   ]
  },
  {
   "cell_type": "code",
   "execution_count": 62,
   "metadata": {},
   "outputs": [],
   "source": [
    "alfa = dxDt\n",
    "beta = dbDt\n",
    "gama = dyDt"
   ]
  },
  {
   "cell_type": "code",
   "execution_count": 63,
   "metadata": {},
   "outputs": [],
   "source": [
    "dias = range(0, 60)\n",
    "integrate = [0, 1001]"
   ]
  },
  {
   "cell_type": "code",
   "execution_count": 64,
   "metadata": {},
   "outputs": [],
   "source": [
    "def deriv(t, y, N, alfa, beta, gama):\n",
    "    S, I, R, M = y\n",
    "    dSdt = -alfa * S * I\n",
    "    dIdt = alfa * S * I - beta * I - gama * I\n",
    "    dRdt = beta * I\n",
    "    dMdT = gama * I\n",
    "    return dSdt, dIdt, dRdt, dMdT"
   ]
  },
  {
   "cell_type": "code",
   "execution_count": 65,
   "metadata": {},
   "outputs": [],
   "source": [
    "y0 = S0, I0, R0, M0"
   ]
  },
  {
   "cell_type": "code",
   "execution_count": 66,
   "metadata": {},
   "outputs": [],
   "source": [
    "def RK1(alfa, beta, gama, n, c):\n",
    "    k1 = -alfa*n\n",
    "    k2 = alfa*n-beta*c-gama*c\n",
    "    k3 = beta*c\n",
    "    k4 = gama*c\n",
    "    return k1, k2, k3, k4"
   ]
  },
  {
   "cell_type": "code",
   "execution_count": 67,
   "metadata": {},
   "outputs": [],
   "source": [
    "def RK2(alfa, beta, gama, n, c, kN):\n",
    "    k1 = -alfa*(n+kN[0]/2)\n",
    "    k2 = alfa*(n+kN[1]/2)-beta*(c+kN[1]/2)-gama*(c+kN[1]/2)\n",
    "    k3 = beta*(c+kN[2]/2)\n",
    "    k4 = gama*(c+kN[3]/2)\n",
    "    return k1, k2, k3, k4"
   ]
  },
  {
   "cell_type": "code",
   "execution_count": 68,
   "metadata": {},
   "outputs": [],
   "source": [
    "def RK3(alfa, beta, gama, n, c, kC):\n",
    "    k1 = -alfa*(n+kC[0]/2)\n",
    "    k2 = alfa*(n+kC[1]/2)-beta*(c+kC[1]/2)-gama*(c+kC[1]/2)\n",
    "    k3 = beta*(c+kC[2]/2)\n",
    "    k4 = gama*(c+kC[3]/2)\n",
    "    return k1, k2, k3, k4"
   ]
  },
  {
   "cell_type": "code",
   "execution_count": 69,
   "metadata": {},
   "outputs": [],
   "source": [
    "def RK4(alfa, beta, gama, n, c, kR):\n",
    "    k1 = -alfa*(n+kR[0])\n",
    "    k2 = alfa*(n+kR[1])-beta*(c+kR[1])-gama*(c+kR[1])\n",
    "    k3 = beta*(c+kR[2])\n",
    "    k4 = gama*(c+kR[3])\n",
    "    return k1, k2, k3, k4  "
   ]
  },
  {
   "cell_type": "code",
   "execution_count": 70,
   "metadata": {},
   "outputs": [],
   "source": [
    "def integrated():\n",
    "    h, t, c,r, m = 1, 0, 0, 0, 0\n",
    "    \n",
    "    n = N\n",
    "    c = qtdC\n",
    "    r = qtdR\n",
    "    m = qtdM\n",
    "\n",
    "    tGraf, nGraf, cGraf, rGraf, mGraf = [0],[n],[c],[r],[m]\n",
    "  \n",
    "    while t < 100:\n",
    "        \n",
    "        kN = h*RK1(alfa, beta, gama, n, c)\n",
    "        kC = h*RK2(alfa, beta, gama, n, c, kN)\n",
    "        kR = h*RK3(alfa, beta, gama, n, c, kC)\n",
    "        kM = h*RK2(alfa, beta, gama, n, c, kR)\n",
    "\n",
    "        kN1, kN2, kN3, kN4 = kN[0], kN[1], kN[2], kN[3]\n",
    "        kC1, kC2, kC3, kC4 = kC[0], kC[1], kC[2], kC[3]\n",
    "        kR1, kR2, kR3, kR4 = kR[0], kR[1], kR[2], kR[3]\n",
    "        kM1, kM2, kM3, kM4 = kM[0], kM[1], kM[2], kM[3]\n",
    "\n",
    "        n += (kN1+2*kC1+2*kR1+kM1)/6\n",
    "        c += (kN2+2*kC2+2*kR2+kM2)/6\n",
    "        r += (kN3+2*kC3+2*kR3+kM3)/6\n",
    "        m += (kN4+2*kC4+2*kR4+kM4)/6\n",
    "\n",
    "        tGraf.append(t)\n",
    "        nGraf.append(n)\n",
    "        cGraf.append(c)\n",
    "        rGraf.append(r)\n",
    "        mGraf.append(m)\n",
    "\n",
    "        t+=h\n",
    "\n",
    "    graf = plt.figure(facecolor='w')\n",
    "    plt.xlabel('Tempo/dias')\n",
    "    plt.ylabel('Indivíduos')\n",
    "    plt.plot(tGraf, nGraf, 'b', label='Suscetíveis')\n",
    "    plt.plot(tGraf, cGraf, 'g', label='Infectados')\n",
    "    plt.plot(tGraf, rGraf, 'y', label='Recuperados')\n",
    "    plt.plot(tGraf, mGraf, 'r', label='Mortos')\n",
    "    plt.legend()\n",
    "    plt.show()\n",
    "    graf.savefig('grafico.png')"
   ]
  },
  {
   "cell_type": "code",
   "execution_count": 71,
   "metadata": {},
   "outputs": [
    {
     "data": {
      "image/png": "[encoded data removed]",
      "text/plain": [
       "<Figure size 432x288 with 1 Axes>"
      ]
     },
     "metadata": {},
     "output_type": "display_data"
    }
   ],
   "source": [
    "integrated()"
   ]
  },
  {
   "cell_type": "code",
   "execution_count": null,
   "metadata": {},
   "outputs": [],
   "source": []
  }
 ],
 "metadata": {
  "kernelspec": {
   "display_name": "Python 3",
   "language": "python",
   "name": "python3"
  },
  "language_info": {
   "codemirror_mode": {
    "name": "ipython",
    "version": 3
   },
   "file_extension": ".py",
   "mimetype": "text/x-python",
   "name": "python",
   "nbconvert_exporter": "python",
   "pygments_lexer": "ipython3",
   "version": "3.7.6"
  }
 },
 "nbformat": 4,
 "nbformat_minor": 4
}
