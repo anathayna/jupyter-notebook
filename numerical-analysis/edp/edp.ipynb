{
 "cells": [
  {
   "cell_type": "code",
   "execution_count": 1,
   "metadata": {},
   "outputs": [],
   "source": [
    "import matplotlib.pyplot as plt\n",
    "from sympy import *\n",
    "x = symbols('x')\n",
    "import math"
   ]
  },
  {
   "cell_type": "code",
   "execution_count": 2,
   "metadata": {},
   "outputs": [],
   "source": [
    "# Equações Diferenciais Parciais (EDP)"
   ]
  },
  {
   "cell_type": "code",
   "execution_count": 3,
   "metadata": {},
   "outputs": [],
   "source": [
    "# Equação Diferenças Progressivas, Atrasadas e Centrais (métodos)"
   ]
  },
  {
   "cell_type": "code",
   "execution_count": 4,
   "metadata": {},
   "outputs": [],
   "source": [
    "# função f(x) = 10*cos(x) em x = pi/6\n",
    "# passos x = 0.1, 0.02 e 0.0001"
   ]
  },
  {
   "cell_type": "code",
   "execution_count": 5,
   "metadata": {},
   "outputs": [],
   "source": [
    "Δx = [0.1, 0.02, 0.0001]"
   ]
  },
  {
   "cell_type": "code",
   "execution_count": 10,
   "metadata": {},
   "outputs": [],
   "source": [
    "def ff(x):\n",
    "    pi = 3.14\n",
    "    x = pi/6\n",
    "    return 10 * cos(x)"
   ]
  },
  {
   "cell_type": "code",
   "execution_count": 11,
   "metadata": {},
   "outputs": [],
   "source": [
    "def progressiva(f, x, h):\n",
    "    return (f(x+h) - f(x))/h\n",
    "\n",
    "def atrasada(f, x, h):\n",
    "    return (f(x) - f(x-h))/h\n",
    "\n",
    "def central(f, x, h):\n",
    "    return (f(x+h) - f(x-h))/(2*h)"
   ]
  },
  {
   "cell_type": "code",
   "execution_count": 12,
   "metadata": {},
   "outputs": [],
   "source": [
    "x = 0.0001\n",
    "h = 0.1"
   ]
  },
  {
   "cell_type": "code",
   "execution_count": 13,
   "metadata": {},
   "outputs": [],
   "source": [
    "dydt_f = progressiva(ff, x, h)\n",
    "dydt_b = atrasada(ff, x, h)\n",
    "dydt_c = central(ff, x, h)"
   ]
  },
  {
   "cell_type": "code",
   "execution_count": 14,
   "metadata": {},
   "outputs": [],
   "source": [
    "exato = 10 * cos(x)"
   ]
  },
  {
   "cell_type": "code",
   "execution_count": 15,
   "metadata": {},
   "outputs": [
    {
     "name": "stdout",
     "output_type": "stream",
     "text": [
      "Diferença Progressiva = 0\n",
      "Diferença Atrasada = 0\n",
      "Diferença Central = 0\n",
      "Valor Exato = 9.99999995000000\n"
     ]
    }
   ],
   "source": [
    "print(\"Diferença Progressiva =\", dydt_f)\n",
    "print(\"Diferença Atrasada =\", dydt_b)\n",
    "print(\"Diferença Central =\", dydt_c)\n",
    "print(\"Valor Exato =\", exato)"
   ]
  },
  {
   "cell_type": "code",
   "execution_count": 16,
   "metadata": {},
   "outputs": [],
   "source": [
    "# Erro Relativo: ER% = (sol. exata – sol. numérica)x100% / sol. exata"
   ]
  },
  {
   "cell_type": "code",
   "execution_count": 18,
   "metadata": {},
   "outputs": [
    {
     "name": "stdout",
     "output_type": "stream",
     "text": [
      "899.999995000000\n"
     ]
    }
   ],
   "source": [
    "aprox = 10 * cos(x)\n",
    "print((aprox-exato/exato) * 100)"
   ]
  },
  {
   "cell_type": "code",
   "execution_count": null,
   "metadata": {},
   "outputs": [],
   "source": []
  }
 ],
 "metadata": {
  "kernelspec": {
   "display_name": "Python 3",
   "language": "python",
   "name": "python3"
  },
  "language_info": {
   "codemirror_mode": {
    "name": "ipython",
    "version": 3
   },
   "file_extension": ".py",
   "mimetype": "text/x-python",
   "name": "python",
   "nbconvert_exporter": "python",
   "pygments_lexer": "ipython3",
   "version": "3.7.6"
  }
 },
 "nbformat": 4,
 "nbformat_minor": 4
}
