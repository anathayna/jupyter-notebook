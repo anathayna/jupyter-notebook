{
 "cells": [
  {
   "cell_type": "code",
   "execution_count": 45,
   "metadata": {},
   "outputs": [],
   "source": [
    "from scipy.integrate import odeint\n",
    "import matplotlib.pyplot as plt\n",
    "from sympy import *\n",
    "import numpy as np\n",
    "import math"
   ]
  },
  {
   "cell_type": "code",
   "execution_count": 46,
   "metadata": {},
   "outputs": [],
   "source": [
    "def alphaM(Vm):\n",
    "    return (0.1 * (25.0 - Vm)) / (np.exp(2.5 - (0.1 * Vm)) - 1.0)\n",
    "\n",
    "def betaM(Vm):\n",
    "    return 4.0 * np.exp(-Vm / 18.0)"
   ]
  },
  {
   "cell_type": "code",
   "execution_count": 47,
   "metadata": {},
   "outputs": [],
   "source": [
    "def alphaH(Vm):\n",
    "    return 0.07 * np.exp(-Vm / 20.0)\n",
    "\n",
    "def betaH(Vm):\n",
    "    return 1.0 / (np.exp(3.0 - (0.1 * Vm)) + 1.0)"
   ]
  },
  {
   "cell_type": "code",
   "execution_count": 48,
   "metadata": {},
   "outputs": [],
   "source": [
    "def alphaN(Vm):\n",
    "    return (0.01 * (10.0 - Vm)) / (np.exp(1.0 - (0.1 * Vm)) - 1.0)\n",
    "\n",
    "def betaN(Vm):\n",
    "    return 0.125 * np.exp(-Vm / 80.0)"
   ]
  },
  {
   "cell_type": "code",
   "execution_count": 66,
   "metadata": {},
   "outputs": [],
   "source": [
    "I = 10\n",
    "tS = 100\n",
    "Ci = 1\n",
    "mi = 0.0529\n",
    "hi = 0.5961\n",
    "ni = 0.3176\n",
    "Vi = -65.002"
   ]
  },
  {
   "cell_type": "code",
   "execution_count": 67,
   "metadata": {},
   "outputs": [],
   "source": [
    "dt = 0.001 \n",
    "t = np.arange(0, tS, dt)"
   ]
  },
  {
   "cell_type": "code",
   "execution_count": 68,
   "metadata": {},
   "outputs": [],
   "source": [
    "V = np.zeros(len(t)) \n",
    "m = np.zeros(len(t))\n",
    "n = np.zeros(len(t)) \n",
    "h = np.zeros(len(t)) \n",
    "gNa = 12.0\n",
    "vNa = 50.0\n",
    "gK = 3.60\n",
    "vK = -77.0\n",
    "gL = 0.03\n",
    "vL = -54.402\n",
    "loop = np.arange(0, tS, dt)"
   ]
  },
  {
   "cell_type": "code",
   "execution_count": 69,
   "metadata": {},
   "outputs": [
    {
     "data": {
      "text/plain": [
       "<Figure size 432x288 with 0 Axes>"
      ]
     },
     "metadata": {},
     "output_type": "display_data"
    }
   ],
   "source": [
    "for i in range(0, len(loop) - 1):\n",
    "    m[i + 1] = m[i] + dt * (alphaM(V[i]) * (1 - m[i]) - betaM(V[i]) * m[i])\n",
    "    h[i + 1] = h[i] + dt * (alphaH(V[i]) * (1 - h[i]) - betaH(V[i]) * h[i])\n",
    "    n[i + 1] = n[i] + dt * (alphaN(V[i]) * (1 - n[i]) - betaN(V[i]) * n[i])\n",
    "    V[i + 1] = V[i] + dt * (gNa * m[i] ** 3 * h[i] * (vNa - (V[i] + 65)) + gK * n[i] ** 4 * (vK - (V[i] + 65)) + gL * (vL - (V[i] + 65)) + I)\n",
    "\n",
    "fig = plt.figure()"
   ]
  },
  {
   "cell_type": "code",
   "execution_count": 70,
   "metadata": {
    "scrolled": true
   },
   "outputs": [
    {
     "data": {
      "image/png": "[encoded data removed]",
      "text/plain": [
       "<Figure size 864x504 with 1 Axes>"
      ]
     },
     "metadata": {
      "needs_background": "light"
     },
     "output_type": "display_data"
    }
   ],
   "source": [
    "fig, ax = plt.subplots(figsize=(12, 7))\n",
    "ax.plot(t, V)\n",
    "ax.set_xlabel('Tempo (ms)')\n",
    "ax.set_ylabel('Vm (mV)')\n",
    "ax.set_title('Propagação do Potencial de Ação em Neurônios')\n",
    "plt.grid()"
   ]
  },
  {
   "cell_type": "code",
   "execution_count": null,
   "metadata": {},
   "outputs": [],
   "source": []
  }
 ],
 "metadata": {
  "kernelspec": {
   "display_name": "Python 3",
   "language": "python",
   "name": "python3"
  },
  "language_info": {
   "codemirror_mode": {
    "name": "ipython",
    "version": 3
   },
   "file_extension": ".py",
   "mimetype": "text/x-python",
   "name": "python",
   "nbconvert_exporter": "python",
   "pygments_lexer": "ipython3",
   "version": "3.7.6"
  }
 },
 "nbformat": 4,
 "nbformat_minor": 4
}
